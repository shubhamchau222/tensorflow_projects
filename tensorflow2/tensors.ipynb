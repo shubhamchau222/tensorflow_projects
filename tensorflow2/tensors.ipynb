{
 "cells": [
  {
   "cell_type": "code",
   "execution_count": 3,
   "metadata": {},
   "outputs": [],
   "source": [
    "import tensorflow as tf\n",
    "import numpy as np"
   ]
  },
  {
   "cell_type": "code",
   "execution_count": 12,
   "metadata": {},
   "outputs": [
    {
     "name": "stdout",
     "output_type": "stream",
     "text": [
      "tf.Tensor(4, shape=(), dtype=int32)\n"
     ]
    }
   ],
   "source": [
    "# Zero Tensor\n",
    "tensor_zero=tf.constant(4)\n",
    "print(tensor_zero)"
   ]
  },
  {
   "cell_type": "code",
   "execution_count": 13,
   "metadata": {},
   "outputs": [
    {
     "name": "stdout",
     "output_type": "stream",
     "text": [
      "tf.Tensor([1 2 3 4], shape=(4,), dtype=int32)\n"
     ]
    }
   ],
   "source": [
    "tensor_one_d= tf.constant([1,2,3,4])\n",
    "print(tensor_one_d)"
   ]
  },
  {
   "cell_type": "code",
   "execution_count": 9,
   "metadata": {},
   "outputs": [
    {
     "name": "stdout",
     "output_type": "stream",
     "text": [
      "tf.Tensor([2 3 3 0], shape=(4,), dtype=int32)\n",
      "tf.Tensor([1 0 1 3], shape=(4,), dtype=int32)\n",
      "tf.Tensor([2 4 3 2], shape=(4,), dtype=int32)\n",
      "tf.Tensor([3 1 3 3], shape=(4,), dtype=int32)\n"
     ]
    }
   ],
   "source": [
    "# one dimensional array\n",
    "tf.random.set_seed(42)\n",
    "\n",
    "print(tf.random.uniform(shape=[4,], maxval=5, dtype=tf.int32, seed=10, name=\"one diamensional array\"))\n",
    "print(tf.random.uniform(shape=[4,], maxval=5, dtype=tf.int32, seed=10))\n",
    "print(tf.random.uniform(shape=[4,], maxval=5, dtype=tf.int32, seed=10))\n",
    "print(tf.random.uniform(shape=[4,], maxval=5, dtype=tf.int32, seed=10))"
   ]
  },
  {
   "cell_type": "code",
   "execution_count": 17,
   "metadata": {},
   "outputs": [
    {
     "name": "stdout",
     "output_type": "stream",
     "text": [
      "tf.Tensor(\n",
      "[[0 1 3]\n",
      " [3 2 1]], shape=(2, 3), dtype=int32)\n"
     ]
    }
   ],
   "source": [
    "# two dimensional array (combination of two one dimensional arrays)\n",
    "print(tf.random.uniform(shape=[2,3], maxval=5, dtype=tf.int32, seed=10, name=\"two diamensional array\"))\n"
   ]
  },
  {
   "cell_type": "code",
   "execution_count": null,
   "metadata": {},
   "outputs": [
    {
     "name": "stdout",
     "output_type": "stream",
     "text": [
      "tf.Tensor(\n",
      "[[1 2 3]\n",
      " [4 5 6]], shape=(2, 3), dtype=int32)\n"
     ]
    }
   ],
   "source": [
    "two_d_array=tf.constant([\n",
    "                            [1,2,3],\n",
    "                            [4,5,6]\n",
    "                        ])\n",
    "\n",
    "print(two_d_array) # rows, cols"
   ]
  },
  {
   "cell_type": "code",
   "execution_count": null,
   "metadata": {},
   "outputs": [
    {
     "name": "stdout",
     "output_type": "stream",
     "text": [
      "tf.Tensor(\n",
      "[[[1 2 3]\n",
      "  [4 5 6]]\n",
      "\n",
      " [[5 7 7]\n",
      "  [4 6 8]]], shape=(2, 2, 3), dtype=int32)\n"
     ]
    }
   ],
   "source": [
    "# three dims tensor (combination of two or more than two dimensional arrays)\n",
    "tesor_three_d = tf.constant(\n",
    "[[\n",
    " [1,2,3],\n",
    "[4,5,6]],\n",
    "[\n",
    " [5,7,7],\n",
    "[4,6,8]\n",
    "]]\n",
    ")\n",
    "print(tesor_three_d) # rows, cols, depth"
   ]
  },
  {
   "cell_type": "code",
   "execution_count": 19,
   "metadata": {},
   "outputs": [
    {
     "name": "stdout",
     "output_type": "stream",
     "text": [
      "tf.Tensor(\n",
      "[[[2 1 1]\n",
      "  [0 0 1]]\n",
      "\n",
      " [[2 3 4]\n",
      "  [2 0 1]]], shape=(2, 2, 3), dtype=int32)\n"
     ]
    }
   ],
   "source": [
    "print(tf.random.uniform(shape=[2,2,3], maxval=5, dtype=tf.int32, seed=10, name=\"two diamensional array\"))"
   ]
  },
  {
   "cell_type": "code",
   "execution_count": 20,
   "metadata": {},
   "outputs": [
    {
     "name": "stdout",
     "output_type": "stream",
     "text": [
      "tf.Tensor(\n",
      "[[[[1 2 3]\n",
      "   [4 5 6]]\n",
      "\n",
      "  [[5 7 7]\n",
      "   [4 6 8]]]], shape=(1, 2, 2, 3), dtype=int32)\n"
     ]
    }
   ],
   "source": [
    "# 4D array\n",
    "tensor_4d = tf.constant([[[[1,2,3],[4,5,6]],[[5,7,7],[4,6,8]]]])\n",
    "print(tensor_4d)"
   ]
  },
  {
   "cell_type": "code",
   "execution_count": 21,
   "metadata": {},
   "outputs": [
    {
     "name": "stdout",
     "output_type": "stream",
     "text": [
      "tf.Tensor(\n",
      "[[[[3 2]\n",
      "   [1 3]]\n",
      "\n",
      "  [[1 1]\n",
      "   [0 2]]]\n",
      "\n",
      "\n",
      " [[[1 1]\n",
      "   [0 4]]\n",
      "\n",
      "  [[4 2]\n",
      "   [0 0]]]], shape=(2, 2, 2, 2), dtype=int32)\n"
     ]
    }
   ],
   "source": [
    "print(tf.random.uniform(shape=[2,2,2,2], maxval=5, dtype=tf.int32, seed=10, name=\"two diamensional array\"))"
   ]
  },
  {
   "cell_type": "code",
   "execution_count": 24,
   "metadata": {},
   "outputs": [
    {
     "name": "stdout",
     "output_type": "stream",
     "text": [
      "tf.Tensor(\n",
      "[[[[10 36 16 45]\n",
      "   [70 65 41 89]]\n",
      "\n",
      "  [[99 47 53 18]\n",
      "   [81 41 75 40]]]\n",
      "\n",
      "\n",
      " [[[50 62 63 67]\n",
      "   [98  9 11 78]]\n",
      "\n",
      "  [[95 81 31 45]\n",
      "   [45 10 93 61]]]], shape=(2, 2, 2, 4), dtype=int32)\n"
     ]
    }
   ],
   "source": [
    "tensor_4d= tf.random.uniform(shape=[2,2,2,4], maxval=100, dtype=tf.int32, seed=10)\n",
    "print(tensor_4d)"
   ]
  },
  {
   "cell_type": "code",
   "execution_count": 33,
   "metadata": {},
   "outputs": [
    {
     "data": {
      "text/plain": [
       "<tf.Tensor: shape=(2,), dtype=int32, numpy=array([16, 45], dtype=int32)>"
      ]
     },
     "execution_count": 33,
     "metadata": {},
     "output_type": "execute_result"
    }
   ],
   "source": [
    "# extract a single 16 45\n",
    "tensor_4d[0][0][0][2:]"
   ]
  },
  {
   "cell_type": "code",
   "execution_count": 40,
   "metadata": {},
   "outputs": [
    {
     "data": {
      "text/plain": [
       "<tf.Tensor: shape=(2, 2), dtype=int32, numpy=\n",
       "array([[16, 45],\n",
       "       [41, 89]], dtype=int32)>"
      ]
     },
     "execution_count": 40,
     "metadata": {},
     "output_type": "execute_result"
    }
   ],
   "source": [
    "tensor_4d[0][0][:,2:]"
   ]
  },
  {
   "cell_type": "markdown",
   "metadata": {},
   "source": [
    "## create similar tensor like (transformer)-> (batch_size, seq_len, dims)"
   ]
  },
  {
   "cell_type": "code",
   "execution_count": 41,
   "metadata": {},
   "outputs": [],
   "source": [
    "# batch_size, seq_len, embedding_size (no of sentences, no of words, no of features)\n"
   ]
  },
  {
   "cell_type": "code",
   "execution_count": 60,
   "metadata": {},
   "outputs": [
    {
     "name": "stdout",
     "output_type": "stream",
     "text": [
      "tf.Tensor(\n",
      "[[[ 0.95075673 -2.28740708 -1.59376459  0.0245846  -0.33645878]\n",
      "  [ 0.55803349 -0.10502974 -0.60914888  1.42606363 -0.56166456]\n",
      "  [-0.27218109 -1.30801079 -0.08374611  1.81218988 -0.7071872 ]\n",
      "  [-0.65792107  0.75420805 -0.52310244  0.14188419  0.5784366 ]]\n",
      "\n",
      " [[ 0.61086185 -1.29269257  0.67200247 -1.00161925  1.08985974]\n",
      "  [-0.27384856  1.45300657 -1.22899333 -0.97913192 -1.77856091]\n",
      "  [ 0.6611668   1.64197706  1.04852643  0.2012764  -0.04678045]\n",
      "  [ 0.81292695 -2.11376328 -0.03419352 -1.51463478 -1.20972808]]\n",
      "\n",
      " [[-1.05230463 -0.95102975  0.32000211  2.23686846 -0.70733631]\n",
      "  [-0.3560446   1.14503328  1.3267269  -0.12236576 -0.90324379]\n",
      "  [ 0.05261829  1.28092332  0.6054792   0.53793594 -0.5644898 ]\n",
      "  [ 0.26696764  0.53670286  0.09354302 -0.09567358 -0.84024325]]\n",
      "\n",
      " [[ 1.1585465  -2.25164507 -0.22689102 -0.19397162  0.4733954 ]\n",
      "  [-0.43175785 -0.41418808  0.92615407 -1.41959332 -1.41033433]\n",
      "  [-1.24787178  0.85035968  2.58178466  1.67031198  0.17116681]\n",
      "  [-0.4014426   1.08351475  0.98080032 -0.43667598 -0.81694937]]], shape=(4, 4, 5), dtype=float64)\n"
     ]
    }
   ],
   "source": [
    "transformer_embeddings = tf.random.normal(shape=[4,4,5], \n",
    "                 mean=0.0, \n",
    "                 dtype= tf.dtypes.float64, # full precision\n",
    "                 seed=42\n",
    "                 )\n",
    "\n",
    "print(transformer_embeddings)\n"
   ]
  },
  {
   "cell_type": "code",
   "execution_count": 61,
   "metadata": {},
   "outputs": [
    {
     "data": {
      "text/plain": [
       "<tf.Tensor: shape=(5,), dtype=float64, numpy=array([ 0.95075673, -2.28740708, -1.59376459,  0.0245846 , -0.33645878])>"
      ]
     },
     "execution_count": 61,
     "metadata": {},
     "output_type": "execute_result"
    }
   ],
   "source": [
    "# first token of first sentence\n",
    "transformer_embeddings[0][0]"
   ]
  },
  {
   "cell_type": "code",
   "execution_count": 64,
   "metadata": {},
   "outputs": [
    {
     "name": "stdout",
     "output_type": "stream",
     "text": [
      "tf.Tensor(\n",
      "[[[ 0.95075673 -2.28740708 -1.59376459  0.0245846  -0.33645878]\n",
      "  [ 0.55803349 -0.10502974 -0.60914888  1.42606363 -0.56166456]\n",
      "  [-0.27218109 -1.30801079 -0.08374611  1.81218988 -0.7071872 ]\n",
      "  [-0.65792107  0.75420805 -0.52310244  0.14188419  0.5784366 ]]\n",
      "\n",
      " [[ 0.61086185 -1.29269257  0.67200247 -1.00161925  1.08985974]\n",
      "  [-0.27384856  1.45300657 -1.22899333 -0.97913192 -1.77856091]\n",
      "  [ 0.6611668   1.64197706  1.04852643  0.2012764  -0.04678045]\n",
      "  [ 0.81292695 -2.11376328 -0.03419352 -1.51463478 -1.20972808]]\n",
      "\n",
      " [[-1.05230463 -0.95102975  0.32000211  2.23686846 -0.70733631]\n",
      "  [-0.3560446   1.14503328  1.3267269  -0.12236576 -0.90324379]\n",
      "  [ 0.05261829  1.28092332  0.6054792   0.53793594 -0.5644898 ]\n",
      "  [ 0.26696764  0.53670286  0.09354302 -0.09567358 -0.84024325]]\n",
      "\n",
      " [[ 1.1585465  -2.25164507 -0.22689102 -0.19397162  0.4733954 ]\n",
      "  [-0.43175785 -0.41418808  0.92615407 -1.41959332 -1.41033433]\n",
      "  [-1.24787178  0.85035968  2.58178466  1.67031198  0.17116681]\n",
      "  [-0.4014426   1.08351475  0.98080032 -0.43667598 -0.81694937]]], shape=(4, 4, 5), dtype=float64)\n"
     ]
    }
   ],
   "source": [
    "print(transformer_embeddings)"
   ]
  },
  {
   "cell_type": "code",
   "execution_count": 75,
   "metadata": {},
   "outputs": [
    {
     "name": "stdout",
     "output_type": "stream",
     "text": [
      "tf.Tensor(\n",
      "[[[ 0.0245846  -0.33645878]\n",
      "  [ 1.42606363 -0.56166456]\n",
      "  [ 1.81218988 -0.7071872 ]\n",
      "  [ 0.14188419  0.5784366 ]]\n",
      "\n",
      " [[-1.00161925  1.08985974]\n",
      "  [-0.97913192 -1.77856091]\n",
      "  [ 0.2012764  -0.04678045]\n",
      "  [-1.51463478 -1.20972808]]\n",
      "\n",
      " [[ 2.23686846 -0.70733631]\n",
      "  [-0.12236576 -0.90324379]\n",
      "  [ 0.53793594 -0.5644898 ]\n",
      "  [-0.09567358 -0.84024325]]\n",
      "\n",
      " [[-0.19397162  0.4733954 ]\n",
      "  [-1.41959332 -1.41033433]\n",
      "  [ 1.67031198  0.17116681]\n",
      "  [-0.43667598 -0.81694937]]], shape=(4, 4, 2), dtype=float64)\n"
     ]
    }
   ],
   "source": [
    "print(transformer_embeddings[:,:, 3:]) # select last 2 cols of each sentece and each tokens"
   ]
  },
  {
   "cell_type": "markdown",
   "metadata": {},
   "source": [
    "## Change data type (casting operation)"
   ]
  },
  {
   "cell_type": "code",
   "execution_count": 79,
   "metadata": {},
   "outputs": [
    {
     "data": {
      "text/plain": [
       "<tf.Tensor: shape=(4, 4, 5), dtype=float16, numpy=\n",
       "array([[[ 0.9507 , -2.287  , -1.594  ,  0.02458, -0.3364 ],\n",
       "        [ 0.558  , -0.10504, -0.6094 ,  1.426  , -0.5615 ],\n",
       "        [-0.2722 , -1.308  , -0.08374,  1.8125 , -0.707  ],\n",
       "        [-0.6577 ,  0.7544 , -0.523  ,  0.1418 ,  0.5786 ]],\n",
       "\n",
       "       [[ 0.611  , -1.293  ,  0.672  , -1.002  ,  1.09   ],\n",
       "        [-0.274  ,  1.453  , -1.229  , -0.979  , -1.778  ],\n",
       "        [ 0.661  ,  1.642  ,  1.049  ,  0.2013 , -0.04678],\n",
       "        [ 0.813  , -2.113  , -0.03418, -1.515  , -1.21   ]],\n",
       "\n",
       "       [[-1.053  , -0.951  ,  0.32   ,  2.236  , -0.7075 ],\n",
       "        [-0.356  ,  1.1455 ,  1.327  , -0.1224 , -0.9033 ],\n",
       "        [ 0.0526 ,  1.281  ,  0.6055 ,  0.538  , -0.5645 ],\n",
       "        [ 0.2668 ,  0.5366 ,  0.09357, -0.0957 , -0.8403 ]],\n",
       "\n",
       "       [[ 1.158  , -2.252  , -0.2269 , -0.194  ,  0.4734 ],\n",
       "        [-0.4316 , -0.4143 ,  0.9263 , -1.42   , -1.41   ],\n",
       "        [-1.248  ,  0.8506 ,  2.582  ,  1.67   ,  0.1711 ],\n",
       "        [-0.4014 ,  1.084  ,  0.981  , -0.4368 , -0.817  ]]],\n",
       "      dtype=float16)>"
      ]
     },
     "execution_count": 79,
     "metadata": {},
     "output_type": "execute_result"
    }
   ],
   "source": [
    "## convert to float16\n",
    "tf.cast(transformer_embeddings, dtype=tf.float16) # convert to float16"
   ]
  },
  {
   "cell_type": "code",
   "execution_count": 81,
   "metadata": {},
   "outputs": [
    {
     "data": {
      "text/plain": [
       "<tf.Tensor: shape=(4, 4, 5), dtype=qint16, numpy=\n",
       "array([[[ 0, -2, -1,  0,  0],\n",
       "        [ 0,  0,  0,  1,  0],\n",
       "        [ 0, -1,  0,  1,  0],\n",
       "        [ 0,  0,  0,  0,  0]],\n",
       "\n",
       "       [[ 0, -1,  0, -1,  1],\n",
       "        [ 0,  1, -1,  0, -1],\n",
       "        [ 0,  1,  1,  0,  0],\n",
       "        [ 0, -2,  0, -1, -1]],\n",
       "\n",
       "       [[-1,  0,  0,  2,  0],\n",
       "        [ 0,  1,  1,  0,  0],\n",
       "        [ 0,  1,  0,  0,  0],\n",
       "        [ 0,  0,  0,  0,  0]],\n",
       "\n",
       "       [[ 1, -2,  0,  0,  0],\n",
       "        [ 0,  0,  0, -1, -1],\n",
       "        [-1,  0,  2,  1,  0],\n",
       "        [ 0,  1,  0,  0,  0]]], dtype=int16)>"
      ]
     },
     "execution_count": 81,
     "metadata": {},
     "output_type": "execute_result"
    }
   ],
   "source": [
    "tf.cast(transformer_embeddings, dtype=tf.qint16)"
   ]
  },
  {
   "cell_type": "code",
   "execution_count": 84,
   "metadata": {},
   "outputs": [
    {
     "data": {
      "text/plain": [
       "<tf.Tensor: shape=(4, 4, 5), dtype=qint32, numpy=\n",
       "array([[[ 0, -2, -1,  0,  0],\n",
       "        [ 0,  0,  0,  1,  0],\n",
       "        [ 0, -1,  0,  1,  0],\n",
       "        [ 0,  0,  0,  0,  0]],\n",
       "\n",
       "       [[ 0, -1,  0, -1,  1],\n",
       "        [ 0,  1, -1,  0, -1],\n",
       "        [ 0,  1,  1,  0,  0],\n",
       "        [ 0, -2,  0, -1, -1]],\n",
       "\n",
       "       [[-1,  0,  0,  2,  0],\n",
       "        [ 0,  1,  1,  0,  0],\n",
       "        [ 0,  1,  0,  0,  0],\n",
       "        [ 0,  0,  0,  0,  0]],\n",
       "\n",
       "       [[ 1, -2,  0,  0,  0],\n",
       "        [ 0,  0,  0, -1, -1],\n",
       "        [-1,  0,  2,  1,  0],\n",
       "        [ 0,  1,  0,  0,  0]]], dtype=int32)>"
      ]
     },
     "execution_count": 84,
     "metadata": {},
     "output_type": "execute_result"
    }
   ],
   "source": [
    "tensor_int32= tf.cast(transformer_embeddings, dtype=tf.qint32)\n",
    "tensor_int32"
   ]
  },
  {
   "cell_type": "code",
   "execution_count": 85,
   "metadata": {},
   "outputs": [
    {
     "data": {
      "text/plain": [
       "<tf.Tensor: shape=(4, 4, 5), dtype=bool, numpy=\n",
       "array([[[False,  True,  True, False, False],\n",
       "        [False, False, False,  True, False],\n",
       "        [False,  True, False,  True, False],\n",
       "        [False, False, False, False, False]],\n",
       "\n",
       "       [[False,  True, False,  True,  True],\n",
       "        [False,  True,  True, False,  True],\n",
       "        [False,  True,  True, False, False],\n",
       "        [False,  True, False,  True,  True]],\n",
       "\n",
       "       [[ True, False, False,  True, False],\n",
       "        [False,  True,  True, False, False],\n",
       "        [False,  True, False, False, False],\n",
       "        [False, False, False, False, False]],\n",
       "\n",
       "       [[ True,  True, False, False, False],\n",
       "        [False, False, False,  True,  True],\n",
       "        [ True, False,  True,  True, False],\n",
       "        [False,  True, False, False, False]]])>"
      ]
     },
     "execution_count": 85,
     "metadata": {},
     "output_type": "execute_result"
    }
   ],
   "source": [
    "tf.cast(tensor_int32, dtype=tf.bool)"
   ]
  },
  {
   "cell_type": "markdown",
   "metadata": {},
   "source": [
    "# indentity matric"
   ]
  },
  {
   "cell_type": "code",
   "execution_count": 87,
   "metadata": {},
   "outputs": [
    {
     "data": {
      "text/plain": [
       "<tf.Tensor: shape=(3, 3), dtype=float32, numpy=\n",
       "array([[1., 0., 0.],\n",
       "       [0., 1., 0.],\n",
       "       [0., 0., 1.]], dtype=float32)>"
      ]
     },
     "execution_count": 87,
     "metadata": {},
     "output_type": "execute_result"
    }
   ],
   "source": [
    "tf.eye(\n",
    "    3,\n",
    "    num_columns=None,\n",
    "    batch_shape=None,\n",
    "    dtype=tf.dtypes.float32,\n",
    "    name=None\n",
    ")"
   ]
  },
  {
   "cell_type": "code",
   "execution_count": 89,
   "metadata": {},
   "outputs": [
    {
     "data": {
      "text/plain": [
       "<tf.Tensor: shape=(3, 3), dtype=int32, numpy=\n",
       "array([[1, 0, 0],\n",
       "       [0, 2, 0],\n",
       "       [0, 0, 3]], dtype=int32)>"
      ]
     },
     "execution_count": 89,
     "metadata": {},
     "output_type": "execute_result"
    }
   ],
   "source": [
    "import tensorflow as tf\n",
    "\n",
    "# Example: Create a diagonal matrix\n",
    "diagonal_elements = tf.constant([1, 2, 3])\n",
    "diagonal_matrix = tf.linalg.diag(diagonal_elements)\n",
    "diagonal_matrix"
   ]
  },
  {
   "cell_type": "code",
   "execution_count": 92,
   "metadata": {},
   "outputs": [
    {
     "data": {
      "text/plain": [
       "<tf.Tensor: shape=(2, 4, 5, 5), dtype=float32, numpy=\n",
       "array([[[[1., 0., 0., 0., 0.],\n",
       "         [0., 1., 0., 0., 0.],\n",
       "         [0., 0., 1., 0., 0.],\n",
       "         [0., 0., 0., 1., 0.],\n",
       "         [0., 0., 0., 0., 1.]],\n",
       "\n",
       "        [[1., 0., 0., 0., 0.],\n",
       "         [0., 1., 0., 0., 0.],\n",
       "         [0., 0., 1., 0., 0.],\n",
       "         [0., 0., 0., 1., 0.],\n",
       "         [0., 0., 0., 0., 1.]],\n",
       "\n",
       "        [[1., 0., 0., 0., 0.],\n",
       "         [0., 1., 0., 0., 0.],\n",
       "         [0., 0., 1., 0., 0.],\n",
       "         [0., 0., 0., 1., 0.],\n",
       "         [0., 0., 0., 0., 1.]],\n",
       "\n",
       "        [[1., 0., 0., 0., 0.],\n",
       "         [0., 1., 0., 0., 0.],\n",
       "         [0., 0., 1., 0., 0.],\n",
       "         [0., 0., 0., 1., 0.],\n",
       "         [0., 0., 0., 0., 1.]]],\n",
       "\n",
       "\n",
       "       [[[1., 0., 0., 0., 0.],\n",
       "         [0., 1., 0., 0., 0.],\n",
       "         [0., 0., 1., 0., 0.],\n",
       "         [0., 0., 0., 1., 0.],\n",
       "         [0., 0., 0., 0., 1.]],\n",
       "\n",
       "        [[1., 0., 0., 0., 0.],\n",
       "         [0., 1., 0., 0., 0.],\n",
       "         [0., 0., 1., 0., 0.],\n",
       "         [0., 0., 0., 1., 0.],\n",
       "         [0., 0., 0., 0., 1.]],\n",
       "\n",
       "        [[1., 0., 0., 0., 0.],\n",
       "         [0., 1., 0., 0., 0.],\n",
       "         [0., 0., 1., 0., 0.],\n",
       "         [0., 0., 0., 1., 0.],\n",
       "         [0., 0., 0., 0., 1.]],\n",
       "\n",
       "        [[1., 0., 0., 0., 0.],\n",
       "         [0., 1., 0., 0., 0.],\n",
       "         [0., 0., 1., 0., 0.],\n",
       "         [0., 0., 0., 1., 0.],\n",
       "         [0., 0., 0., 0., 1.]]]], dtype=float32)>"
      ]
     },
     "execution_count": 92,
     "metadata": {},
     "output_type": "execute_result"
    }
   ],
   "source": [
    "tf.eye(\n",
    "    5,\n",
    "    num_columns=None,\n",
    "    batch_shape=(2,4),\n",
    "    dtype=tf.dtypes.float32,\n",
    "    name=None\n",
    ")"
   ]
  },
  {
   "cell_type": "markdown",
   "metadata": {},
   "source": [
    "# fill"
   ]
  },
  {
   "cell_type": "code",
   "execution_count": 94,
   "metadata": {},
   "outputs": [
    {
     "data": {
      "text/plain": [
       "<tf.Tensor: shape=(4, 2), dtype=int32, numpy=\n",
       "array([[8, 8],\n",
       "       [8, 8],\n",
       "       [8, 8],\n",
       "       [8, 8]], dtype=int32)>"
      ]
     },
     "execution_count": 94,
     "metadata": {},
     "output_type": "execute_result"
    }
   ],
   "source": [
    "tf.fill(\n",
    "    dims= (4,2), \n",
    "    value= 8, \n",
    "    name=None, \n",
    "    layout=None\n",
    ")"
   ]
  },
  {
   "cell_type": "code",
   "execution_count": 96,
   "metadata": {},
   "outputs": [
    {
     "data": {
      "text/plain": [
       "<tf.Tensor: shape=(), dtype=int32, numpy=21>"
      ]
     },
     "execution_count": 96,
     "metadata": {},
     "output_type": "execute_result"
    }
   ],
   "source": [
    "elems = tf.constant([1, 2, 3, 4, 5, 6])\n",
    "sum = tf.foldl(lambda a, x: a + x, elems)\n",
    "# sum == 21\n",
    "sum"
   ]
  },
  {
   "cell_type": "code",
   "execution_count": 98,
   "metadata": {},
   "outputs": [
    {
     "data": {
      "text/plain": [
       "<tf.Tensor: shape=(2, 3), dtype=float32, numpy=\n",
       "array([[1., 1., 1.],\n",
       "       [1., 1., 1.]], dtype=float32)>"
      ]
     },
     "execution_count": 98,
     "metadata": {},
     "output_type": "execute_result"
    }
   ],
   "source": [
    "## create a tensor of ones\n",
    "tensor_ones = tf.ones(shape=[2, 3], dtype=tf.float32, name=\"ones_tensor\")\n",
    "tensor_ones"
   ]
  },
  {
   "cell_type": "code",
   "execution_count": 99,
   "metadata": {},
   "outputs": [
    {
     "data": {
      "text/plain": [
       "<tf.Tensor: shape=(2, 3), dtype=float32, numpy=\n",
       "array([[0., 0., 0.],\n",
       "       [0., 0., 0.]], dtype=float32)>"
      ]
     },
     "execution_count": 99,
     "metadata": {},
     "output_type": "execute_result"
    }
   ],
   "source": [
    "tf.zeros(shape=[2, 3], dtype=tf.float32, name=\"zeros_tensor\")"
   ]
  },
  {
   "cell_type": "markdown",
   "metadata": {},
   "source": [
    "## Random tensorts"
   ]
  },
  {
   "cell_type": "code",
   "execution_count": 100,
   "metadata": {},
   "outputs": [
    {
     "name": "stdout",
     "output_type": "stream",
     "text": [
      "tf.Tensor(\n",
      "[[100.32747   99.15737 ]\n",
      " [100.319435  98.592445]\n",
      " [ 97.61194   98.960754]], shape=(3, 2), dtype=float32)\n"
     ]
    }
   ],
   "source": [
    "random_tensor = tf.random.normal(\n",
    "    [3,2],\n",
    "    mean=100.0,\n",
    "    stddev=1.0,\n",
    "    dtype=tf.dtypes.float32,\n",
    "    seed=None,\n",
    "    name=None\n",
    ")\n",
    "print(random_tensor)"
   ]
  },
  {
   "cell_type": "code",
   "execution_count": 104,
   "metadata": {},
   "outputs": [
    {
     "data": {
      "text/plain": [
       "<tf.Tensor: shape=(4, 4), dtype=int32, numpy=\n",
       "array([[36, 38, 20, 24],\n",
       "       [37, 20, 26, 22],\n",
       "       [26, 39, 30, 38],\n",
       "       [21, 32, 25, 20]], dtype=int32)>"
      ]
     },
     "execution_count": 104,
     "metadata": {},
     "output_type": "execute_result"
    }
   ],
   "source": [
    "tf.random.uniform(shape=[4,4], minval=20, maxval=40, dtype= tf.int32, seed=10, name=\"random_tensor\")"
   ]
  },
  {
   "cell_type": "code",
   "execution_count": 101,
   "metadata": {},
   "outputs": [],
   "source": [
    "# -Tensors are Multi Dimensional Arrays"
   ]
  },
  {
   "cell_type": "markdown",
   "metadata": {},
   "source": [
    "## Argmax"
   ]
  },
  {
   "cell_type": "code",
   "execution_count": 105,
   "metadata": {},
   "outputs": [
    {
     "name": "stdout",
     "output_type": "stream",
     "text": [
      "tf.Tensor([85 72 54 65 65 93 66 58], shape=(8,), dtype=int32)\n"
     ]
    }
   ],
   "source": [
    "array= tf.random.uniform(shape=[8,], minval=50, maxval=100, dtype=tf.int32, seed=10, name=\"random_tensor\")\n",
    "print(array)"
   ]
  },
  {
   "cell_type": "code",
   "execution_count": 110,
   "metadata": {},
   "outputs": [
    {
     "data": {
      "text/plain": [
       "<tf.Tensor: shape=(), dtype=int32, numpy=5>"
      ]
     },
     "execution_count": 110,
     "metadata": {},
     "output_type": "execute_result"
    }
   ],
   "source": [
    "# Returns the index with the largest value across axes of a tensor.\n",
    "max_num_index=tf.math.argmax(array, axis=0, output_type=tf.int32, name=None)\n",
    "max_num_index # give at what position the max number is present in the array"
   ]
  },
  {
   "cell_type": "code",
   "execution_count": 109,
   "metadata": {},
   "outputs": [
    {
     "data": {
      "text/plain": [
       "<tf.Tensor: shape=(), dtype=int32, numpy=93>"
      ]
     },
     "execution_count": 109,
     "metadata": {},
     "output_type": "execute_result"
    }
   ],
   "source": [
    "array[max_num_index] # maximum number in the array"
   ]
  },
  {
   "cell_type": "code",
   "execution_count": 113,
   "metadata": {},
   "outputs": [
    {
     "data": {
      "text/plain": [
       "<tf.Tensor: shape=(), dtype=int32, numpy=5>"
      ]
     },
     "execution_count": 113,
     "metadata": {},
     "output_type": "execute_result"
    }
   ],
   "source": [
    "tf.argmax(array, axis=-1, output_type=tf.int32, name=None)"
   ]
  },
  {
   "cell_type": "code",
   "execution_count": 134,
   "metadata": {},
   "outputs": [
    {
     "data": {
      "text/plain": [
       "<tf.Tensor: shape=(3, 5), dtype=int32, numpy=\n",
       "array([[ 2, 20, 30,  3,  6],\n",
       "       [ 3, 11, 16,  1,  8],\n",
       "       [14, 45, 23,  5, 27]], dtype=int32)>"
      ]
     },
     "execution_count": 134,
     "metadata": {},
     "output_type": "execute_result"
    }
   ],
   "source": [
    "array2= tf.constant([[2, 20, 30, 3, 6], [3, 11, 16, 1, 8],\n",
    "                 [14, 45, 23, 5, 27]])\n",
    "array2"
   ]
  },
  {
   "cell_type": "code",
   "execution_count": 139,
   "metadata": {},
   "outputs": [
    {
     "data": {
      "text/plain": [
       "<tf.Tensor: shape=(5,), dtype=int64, numpy=array([2, 2, 0, 2, 2])>"
      ]
     },
     "execution_count": 139,
     "metadata": {},
     "output_type": "execute_result"
    }
   ],
   "source": [
    "tf.argmax(array2, axis=0)"
   ]
  },
  {
   "cell_type": "code",
   "execution_count": 140,
   "metadata": {},
   "outputs": [
    {
     "data": {
      "text/plain": [
       "<tf.Tensor: shape=(3,), dtype=int64, numpy=array([2, 2, 1])>"
      ]
     },
     "execution_count": 140,
     "metadata": {},
     "output_type": "execute_result"
    }
   ],
   "source": [
    "tf.argmax(array2, axis=1)"
   ]
  },
  {
   "cell_type": "markdown",
   "metadata": {},
   "source": [
    "## argmax axis concept\n",
    "\n",
    "    - Axis 0 goes down the columns (vertically).\n",
    "\n",
    "    - Axis 1 goes across the rows (horizontally)."
   ]
  },
  {
   "cell_type": "code",
   "execution_count": 155,
   "metadata": {},
   "outputs": [
    {
     "name": "stdout",
     "output_type": "stream",
     "text": [
      "tf.Tensor([1 0 1], shape=(3,), dtype=int64)\n"
     ]
    }
   ],
   "source": [
    "tensor = tf.constant([[1, 8, 3],\n",
    "                        [4, 5, 6]])\n",
    "\n",
    "result = tf.argmax(tensor, axis=0)\n",
    "print(result)\n",
    "## it will go across the columns and giving ans [1 0 1] (second row max, first row max, second row max)"
   ]
  },
  {
   "cell_type": "code",
   "execution_count": 158,
   "metadata": {},
   "outputs": [
    {
     "name": "stdout",
     "output_type": "stream",
     "text": [
      "tf.Tensor([1 2], shape=(2,), dtype=int64)\n"
     ]
    }
   ],
   "source": [
    "# axis =1 , It'll go by row\n",
    "result2 = tf.argmax(tensor, axis=1)\n",
    "print(result2) #row wise"
   ]
  },
  {
   "cell_type": "code",
   "execution_count": 159,
   "metadata": {},
   "outputs": [
    {
     "data": {
      "text/plain": [
       "<tf.Tensor: shape=(2, 3), dtype=int32, numpy=\n",
       "array([[1, 8, 3],\n",
       "       [4, 5, 6]], dtype=int32)>"
      ]
     },
     "execution_count": 159,
     "metadata": {},
     "output_type": "execute_result"
    }
   ],
   "source": [
    "tensor"
   ]
  },
  {
   "cell_type": "code",
   "execution_count": 161,
   "metadata": {},
   "outputs": [
    {
     "data": {
      "text/plain": [
       "<tf.Tensor: shape=(3, 2), dtype=int32, numpy=\n",
       "array([[1, 4],\n",
       "       [8, 5],\n",
       "       [3, 6]], dtype=int32)>"
      ]
     },
     "execution_count": 161,
     "metadata": {},
     "output_type": "execute_result"
    }
   ],
   "source": [
    "tf.transpose(tensor)"
   ]
  },
  {
   "cell_type": "code",
   "execution_count": 163,
   "metadata": {},
   "outputs": [
    {
     "name": "stdout",
     "output_type": "stream",
     "text": [
      "(1, 3) (3, 2) (2, 4) (2, 3)\n"
     ]
    }
   ],
   "source": [
    "x_1 = tf.constant([[1,2,0]])\n",
    "\n",
    "x_2 = tf.constant([[1,2],\n",
    "                  [3,5],\n",
    "                  [4,5]])\n",
    "\n",
    "x_3 = tf.constant([[1,2,0,2],\n",
    "                  [3,5,-1,2]])\n",
    "\n",
    "print(x_1.shape, x_2.shape, x_3.shape, tf.transpose(x_2).shape)\n",
    "# x_3.T = 4,2\n",
    "# x_2.T = 2,3\n",
    "# print(tf.transpose(x_3)@tf.transpose(x_2))\n",
    "# tf.linalg.matmul(\n",
    "#     x_3, x_2, transpose_a=True, transpose_b=True, adjoint_a=False, adjoint_b=True,\n",
    "#     a_is_sparse=False, b_is_sparse=False, output_type=None, name=None\n",
    "# )"
   ]
  },
  {
   "cell_type": "code",
   "execution_count": 164,
   "metadata": {},
   "outputs": [
    {
     "name": "stdout",
     "output_type": "stream",
     "text": [
      "tf.Tensor(\n",
      "[[[ 73  31   6]\n",
      "  [185  78  17]]\n",
      "\n",
      " [[ 10  20  20]\n",
      "  [ 11   8   6]]\n",
      "\n",
      " [[ 10  10  15]\n",
      "  [  4   4   6]]], shape=(3, 2, 3), dtype=int32)\n"
     ]
    }
   ],
   "source": [
    "x_1 =  tf.constant([[[1,2],\n",
    "                    [3,5]],\n",
    "\n",
    "                    [[10,0],\n",
    "                    [1,2]],\n",
    "\n",
    "                    [[5,0],\n",
    "                    [2,0]]])\n",
    "\n",
    "x_2 = tf.constant([[[5,1,4],\n",
    "                    [34,15,1]],\n",
    "\n",
    "                    [[1,2,2],\n",
    "                    [5,3,2]],\n",
    "\n",
    "                    [[2,2,3],\n",
    "                    [1,1,1]]])\n",
    "\n",
    "print(tf.linalg.matmul(x_1, x_2))"
   ]
  },
  {
   "cell_type": "code",
   "execution_count": 166,
   "metadata": {},
   "outputs": [
    {
     "data": {
      "text/plain": [
       "(TensorShape([3, 2, 2]), TensorShape([3, 2, 3]))"
      ]
     },
     "execution_count": 166,
     "metadata": {},
     "output_type": "execute_result"
    }
   ],
   "source": [
    "x_1.shape, x_2.shape"
   ]
  },
  {
   "cell_type": "code",
   "execution_count": 167,
   "metadata": {},
   "outputs": [
    {
     "name": "stdout",
     "output_type": "stream",
     "text": [
      "tf.Tensor(\n",
      "[[0 0 0]\n",
      " [0 0 0]], shape=(2, 3), dtype=int32)\n"
     ]
    }
   ],
   "source": [
    "x_1 =  tf.constant([[0,0],\n",
    "                    [0,2]])\n",
    "\n",
    "x_2 = tf.constant([[1,0,0],\n",
    "                    [0,0,0]])\n",
    "\n",
    "print(tf.linalg.matmul(x_1, x_2))"
   ]
  },
  {
   "cell_type": "code",
   "execution_count": 168,
   "metadata": {},
   "outputs": [
    {
     "data": {
      "text/plain": [
       "(TensorShape([2, 2]), TensorShape([2, 3]))"
      ]
     },
     "execution_count": 168,
     "metadata": {},
     "output_type": "execute_result"
    }
   ],
   "source": [
    "x_1.shape, x_2.shape"
   ]
  },
  {
   "cell_type": "code",
   "execution_count": 169,
   "metadata": {},
   "outputs": [
    {
     "data": {
      "text/plain": [
       "<tf.Tensor: shape=(4, 3), dtype=float16, numpy=\n",
       "array([[  1.,  -2.,   0.],\n",
       "       [  0.,   5., 100.],\n",
       "       [  0.,   0.,   6.],\n",
       "       [  0.,   0.,   0.]], dtype=float16)>"
      ]
     },
     "execution_count": 169,
     "metadata": {},
     "output_type": "execute_result"
    }
   ],
   "source": [
    "tensor_two_d = tf.constant([[1,-2,0],\n",
    "                            [3,5,100],\n",
    "                            [1,5,6],\n",
    "                            [2,3,8]], dtype = tf.float16)\n",
    "\n",
    "tensor_out_d = tf.constant([[1,0,0],\n",
    "                            [0,5,0],\n",
    "                            [0,0,6],\n",
    "                            [0,0,0]], dtype = tf.float16)\n",
    "\n",
    "#### ( m-n <= lower) and ( n-m <= upper)\n",
    "# m -- rows, n --- columns\n",
    "tf.linalg.band_part(tensor_two_d, 0, -1)"
   ]
  },
  {
   "cell_type": "code",
   "execution_count": 170,
   "metadata": {},
   "outputs": [
    {
     "data": {
      "text/plain": [
       "<tf.Tensor: shape=(4, 3), dtype=float16, numpy=\n",
       "array([[  1.,  -2.,   0.],\n",
       "       [  3.,   5., 100.],\n",
       "       [  1.,   5.,   6.],\n",
       "       [  2.,   3.,   8.]], dtype=float16)>"
      ]
     },
     "execution_count": 170,
     "metadata": {},
     "output_type": "execute_result"
    }
   ],
   "source": [
    "tensor_two_d"
   ]
  },
  {
   "cell_type": "code",
   "execution_count": 171,
   "metadata": {},
   "outputs": [
    {
     "data": {
      "text/plain": [
       "<tf.Tensor: shape=(4, 3), dtype=float16, numpy=\n",
       "array([[  1.,  -2.,   0.],\n",
       "       [  0.,   5., 100.],\n",
       "       [  0.,   0.,   6.],\n",
       "       [  0.,   0.,   0.]], dtype=float16)>"
      ]
     },
     "execution_count": 171,
     "metadata": {},
     "output_type": "execute_result"
    }
   ],
   "source": [
    "tf.linalg.band_part(tensor_two_d, 0, -1)"
   ]
  },
  {
   "cell_type": "code",
   "execution_count": 173,
   "metadata": {},
   "outputs": [
    {
     "data": {
      "text/plain": [
       "<tf.Tensor: shape=(4, 3), dtype=float16, numpy=\n",
       "array([[1., 0., 0.],\n",
       "       [0., 5., 0.],\n",
       "       [0., 0., 6.],\n",
       "       [0., 0., 0.]], dtype=float16)>"
      ]
     },
     "execution_count": 173,
     "metadata": {},
     "output_type": "execute_result"
    }
   ],
   "source": [
    "tf.linalg.band_part(tensor_two_d, 0, 0)"
   ]
  },
  {
   "cell_type": "code",
   "execution_count": null,
   "metadata": {},
   "outputs": [],
   "source": [
    "tf.linalg.band_part(tensor_two_d, 0, 0)"
   ]
  }
 ],
 "metadata": {
  "kernelspec": {
   "display_name": "myenv",
   "language": "python",
   "name": "python3"
  },
  "language_info": {
   "codemirror_mode": {
    "name": "ipython",
    "version": 3
   },
   "file_extension": ".py",
   "mimetype": "text/x-python",
   "name": "python",
   "nbconvert_exporter": "python",
   "pygments_lexer": "ipython3",
   "version": "3.12.9"
  }
 },
 "nbformat": 4,
 "nbformat_minor": 2
}
